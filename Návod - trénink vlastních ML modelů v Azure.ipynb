{
 "cells": [
  {
   "cell_type": "markdown",
   "metadata": {},
   "source": [
    "# 1. Úvod\n",
    "\n",
    "Současné úlohy vyžadují stále více výpočetního výkonu. Běžný osobní počítač tak nemusí pro velké jazykové modely nebo pro modely počítačové vidění(computer vision) stačit. Azure nabízí téměř neomezený výpočetní výkon, který může Váš vývoj výrazně urychlit. Vše přitom může být obsluhováno z lokálního zařízení. Tento notebook Vás seznámí se vším potřebným tak, abyste mohli rovnout začít spouštět modely na Azuru.\n",
    "\n",
    "*Pokud si chcete vzorové příklad v tomto notebooku spouštět stáhněte si jej i se všemi lokálními soubory.*"
   ]
  },
  {
   "cell_type": "markdown",
   "metadata": {},
   "source": [
    "# 2. Předpoklady\n",
    "\n",
    "Následující řádky jsou určeny především **studentům**, s již pokročilejšími znalostmi Pythonu a strojového učení, hledající výpočetní zdroje pro náročnější problémy. Budu počítat se znalostí některého z populárních machine learning frameworků. Spustitelné příklady používají TensorFlow, ale kód je s mírnými úpravami použitelný s jakýmkoliv frameworkem.\n",
    "\n",
    "Pro spuštění notebooku je nutné nainstalovat nasledující Python balíčky pomocí pip:"
   ]
  },
  {
   "cell_type": "code",
   "execution_count": null,
   "metadata": {},
   "outputs": [],
   "source": [
    "!pip install azureml-core\n",
    "!pip isntall tensorflow\n",
    "!pip install tensorflow-datasets"
   ]
  },
  {
   "cell_type": "markdown",
   "metadata": {},
   "source": [
    "# 3. Založení Azure účtu"
   ]
  },
  {
   "cell_type": "markdown",
   "metadata": {},
   "source": [
    "Azure je výpočetní platforma s desítkami služeb rozličného zaměření. Můžeme zde najít služby pro hostování webových aplikací, správu IoT zařízení nebo pro nás podstatnout službu Azure Machine Learning Studio, jenž nabízí mnoho nástrojů pro vývoj modelů.\n",
    "\n",
    "\n",
    "Microsoft Azure je založený na placených předplatných a kreditech. Pokud jste studenti, určitě využijte možnost si aktivovat studenstké předplatné kde po registraci dostanete kredit 100$. Skvělý návod pro to jak si ho rychle vytvořit najdete na našem STC blogu studuj.digital: https://studuj.digital/2020/01/19/aktivace-azure-for-students/."
   ]
  },
  {
   "cell_type": "markdown",
   "metadata": {},
   "source": [
    "# 4. Instalace Azure CLI"
   ]
  },
  {
   "cell_type": "markdown",
   "metadata": {},
   "source": [
    "Kromě grafického rozhranní Azure Portal můžeme veškerou obsluhu Azuru provádět skrz přes command line interface (CLI). Osobně tuto metodu preferuji, jelikož ji můžu používat přímo z terminálu a po naučení jednotlivých příkazů je i rychlejší. CLI tak budeme používat i v tomto návodu pro vytváření potřebných služeb. Instalace se liší v závislosti na Vašem operačním systému."
   ]
  },
  {
   "cell_type": "markdown",
   "metadata": {},
   "source": [
    "### Windows\n",
    "\n",
    "Pro operační systém Windows je nejjednodušší použít instalátor. Nejnovější verzi stáhnete na: https://aka.ms/installazurecliwindows"
   ]
  },
  {
   "cell_type": "markdown",
   "metadata": {},
   "source": [
    "### Linux"
   ]
  },
  {
   "cell_type": "code",
   "execution_count": null,
   "metadata": {},
   "outputs": [],
   "source": [
    "import sys\n",
    "\n",
    "if sys.platform == \"Linux\":\n",
    "    \n",
    "    try: # pro distribuce RHEL, Fedora or CentOS\n",
    "        !sudo rpm --import https://packages.microsoft.com/keys/microsoft.asc\n",
    "        !echo -e \"[azure-cli] name=Azure CLI baseurl=https://packages.microsoft.com/yumrepos/azure-cli enabled=1 gpgcheck=1 gpgkey=https://packages.microsoft.com/keys/microsoft.asc\" | sudo tee /etc/yum.repos.d/azure-cli.repo\n",
    "        !sudo dnf install azure-cli\n",
    "    \n",
    "    except: # pro distribuce Ubuntu, Debian \n",
    "        !curl -sL https://aka.ms/InstallAzureCLIDeb | sudo bash\n",
    "        "
   ]
  },
  {
   "cell_type": "markdown",
   "metadata": {},
   "source": [
    "### macOS"
   ]
  },
  {
   "cell_type": "code",
   "execution_count": null,
   "metadata": {},
   "outputs": [],
   "source": [
    "import sys\n",
    "\n",
    "if sys.platform == \"darwin\":\n",
    "    !brew update && brew install azure-cli"
   ]
  },
  {
   "cell_type": "markdown",
   "metadata": {},
   "source": [
    "**Zdroje** ke všem druhům instalací: https://docs.microsoft.com/en-us/cli/azure/install-azure-cli"
   ]
  },
  {
   "cell_type": "markdown",
   "metadata": {},
   "source": [
    "# 5. Vytvoření Machine Learning studia a Workspace\n",
    "\n",
    "Azure Machine Learning Studio je služba zahrnující v sobě služby pro všechny části vývoje modelu. Kromě spouštění vlastních modelů stojí za zmínku možnost jej využít i pro zpracování dat, labelling nebo pro tvorbu no-code modelů skrz AutoML.\n",
    "\n",
    "Pro práci s Machine learning studiem musíme nejdříve založit tzv. *workspace* (pracovní prostředí) který sdružuje všechny nastavení, datasety, úložiště, výpočetní zdroje nebo historii trénování jež budete používat v rámci jednoho projektu. V případě vícero projektů tak můžete mít každý workspace nastaven podle unikátních potřeb dané úlohy. \n",
    "\n",
    "K vytvoření workspace se potřebujeme nejprve přihlásit do Azure skrz CLI a zadat přihlašovací údaje z regisrace."
   ]
  },
  {
   "cell_type": "code",
   "execution_count": null,
   "metadata": {},
   "outputs": [],
   "source": [
    "!az login #Mělo by se objevit přihlašovací stránka v prohlížeči."
   ]
  },
  {
   "cell_type": "markdown",
   "metadata": {},
   "source": [
    "Nyní můžeme získat *subscription id* - unikátní klíč k našemu Azure účtu, který budeme používat pro autentizaci Python příkazů."
   ]
  },
  {
   "cell_type": "code",
   "execution_count": null,
   "metadata": {},
   "outputs": [],
   "source": [
    "import json\n",
    "\n",
    "account_info = !az account show\n",
    "\n",
    "account_info = json.loads(\" \".join(list(account_info)))\n",
    "sub_id = account_info[\"id\"]\n",
    "\n",
    "sub_id"
   ]
  },
  {
   "cell_type": "markdown",
   "metadata": {},
   "source": [
    "ML Studio má pro svou obsluhu Python API v podobě balíčku, který jsme dříve nainstalovali. Budeme jej využívat i ve zbytku návodu. Pojmenujeme a vytvoříme nový workspace."
   ]
  },
  {
   "cell_type": "code",
   "execution_count": null,
   "metadata": {},
   "outputs": [],
   "source": [
    "from azureml.core import Workspace\n",
    "\n",
    "ws_name = \"myworkspace\" \n",
    "\n",
    "ws = Workspace.create(name=ws_name,\n",
    "                      subscription_id=sub_id,\n",
    "                      resource_group='myresourcegroup',\n",
    "                      create_resource_group=True,\n",
    "                      location='westeu')"
   ]
  },
  {
   "cell_type": "markdown",
   "metadata": {},
   "source": [
    "Abychom nemuseli pokaždé zkoušet jestli již workspace existuje, můžeme si stáhnout jeho konfigurační soubor a potom získat objekt reprezentující workspace pomocí `ws = Workspace.from_config()`"
   ]
  },
  {
   "cell_type": "code",
   "execution_count": null,
   "metadata": {},
   "outputs": [],
   "source": [
    "ws.write_config(path=\"\", name=\"config.json\")"
   ]
  },
  {
   "cell_type": "markdown",
   "metadata": {},
   "source": [
    "# 6. Workflow ML Studia a důležité koncepty\n",
    "\n",
    "\n",
    "Při práci s ML Studiem se setkáte s pár často používanými koncepty které při vývoji zpřehledňují práci. Jedním z nich byl dříve zmíněný workspace. Pojďme si nejdříve udělat obrázek o tom jak celý proces trénování na Azuru funguje a jaké prvky jsou potřeba skrz následující diagram a jeho popis.\n",
    "\n",
    "* **compute target**\n",
    "    * Virtuální počítač v cloudu na kterém poběží výpočty.\n",
    "    \n",
    "    \n",
    "* **control script**\n",
    "    * Je spouštěný lokálně.\n",
    "    * Předává hyperparametry training scriptu pomocí objektu *ScriptRunConfig*\n",
    "    * Definuje trénovací prostředí skrz *Environment* (např. Python balíčky)\n",
    "    * Odesílá a spouští training script na cloudu.\n",
    "    \n",
    "\n",
    "* **training script**\n",
    "    * Běží v cloudu. \n",
    "    * Načítá data, definuje architekturu modelu, nastavuje hyperparametry spouští trénování a průběžně může ukládat informace. \n",
    "    * Výhodou je že se prakticky vůbec nemusí vůbec lišit od skriptu pro trénování na osobním počítači.\n",
    "\n",
    "\n",
    "* **dataset**\n",
    "    * lokální složka s trénovacími/validačními/testovacími daty kterou chceme do cloudu nahrát.\n",
    "\n",
    "\n",
    "* **Azure Datastore**\n",
    "    * Cloudové uložiště pro dataset\n",
    "    * Training script spuštěn na compute target k němu může rychle přistupovat jako k lokálnímu uložišti.\n",
    "\n",
    "\n",
    "* **výstupy, grafy, obrázky**\n",
    "    * cokoliv můžeme během trénování ukládat přímo do ML Studia. Vše pák můžeme stáhnout a dále analyzovat lokálně.\n",
    "    \n",
    "Následující sekce představují detailněji tyto koncepty a jejich implementaci."
   ]
  },
  {
   "cell_type": "markdown",
   "metadata": {
    "scrolled": true
   },
   "source": [
    "![mlstudio_workflow](img/mlstudio_workflow.png)"
   ]
  },
  {
   "cell_type": "markdown",
   "metadata": {},
   "source": [
    "## 6.1 Compute Targets *(Výpočetní zdroje)*"
   ]
  },
  {
   "cell_type": "markdown",
   "metadata": {},
   "source": [
    "Zjednodušeně se jedná o virtuální počítač optimalizovaný pro strojové učení v cloudu, na kterém budou probíhat veškeré výpočty. Nový *compute target* můžeme vytvořit opět pomocí balíčku `azureml`."
   ]
  },
  {
   "cell_type": "code",
   "execution_count": null,
   "metadata": {},
   "outputs": [],
   "source": [
    "from azureml.core.compute import ComputeTarget, AmlCompute\n",
    "\n",
    "compute_target_name = 'gpu-cluster1'\n",
    "    \n",
    "    try:\n",
    "        aml_compute = ComputeTarget(workspace=ws, name=compute_target_name)\n",
    "\n",
    "    except ComputeTargetExhception: \n",
    "\n",
    "        aml_config = AmlCompute.provisioning_configuration(\n",
    "            vm_size=\"Standard_NC6\", # označení compute target\n",
    "            vm_priority=\"dedicated\", # vyhradí veškeré zdroje určitému uživateli, který tak nemusí čekat\n",
    "            min_nodes = 0, # podle potřeby se může do výpočtu zapojit vícero nodes/více CPU a GPU\n",
    "            max_nodes = 4,\n",
    "            idle_seconds_before_scaledown=300 # pokud není část clusteru využita po této době se počet nodes zmenší\n",
    "        )\n",
    "        \n",
    "        aml_compute = ComputeTarget.create(\n",
    "            ws, \n",
    "            name=compute_target_name, \n",
    "            provisioning_configuration=aml_config\n",
    "        )\n",
    "\n",
    "        aml_compute.wait_for_completion(show_output=True)"
   ]
  },
  {
   "cell_type": "markdown",
   "metadata": {},
   "source": [
    "Azure nabízí mnoho druhů compute targets, které se liší svou pamětí, počtem virtuálních CPU (vCPU), druhem GPU, ale také cenou. Pro tento notebook jsem zvolil nejlevnější typ s grafickou kartou - `Standard_NC6`. Obsahuje 6 vCPU, 56GiB RAM a jednu grafickou kartu NVIDIA Tesla K80. Hodina trénování Vás vyjde na 0.90$. Kredit studenstkého účtu tak bude zhruba stačit na 110 hodin. Seznam všech dostupných VM spolu s cenami najdete na: https://azure.microsoft.com/en-us/pricing/details/machine-learning/."
   ]
  },
  {
   "cell_type": "markdown",
   "metadata": {},
   "source": [
    "## 6.2 Environments *(Prostředí)*\n",
    "\n",
    "Skrz definici objektu *Environment* (prostředí) můžeme konfigurovat náš compute target. V našem případě budeme volit, které Python balíčky se mají na virtuálním počítači instalovat. Můžeme to udělat několika způsoby."
   ]
  },
  {
   "cell_type": "markdown",
   "metadata": {},
   "source": [
    "### 6.2.1 Currated environment\n",
    "\n",
    "V Azure ML Studiu je již mnoho populárních konfigurací náhráno v podobě Docker image souborů. Kvůli tomu že se nemusí balíčky stahovat, je tato varianta nejrychlejší. Detailní přehled dostupných currated prostředí a balíčků jenž obsahují najde zde: https://docs.microsoft.com/en-us/azure/machine-learning/resource-curated-environments."
   ]
  },
  {
   "cell_type": "code",
   "execution_count": null,
   "metadata": {},
   "outputs": [],
   "source": [
    "curated_env_name = 'AzureML-tensorflow-2.4-ubuntu18.04-py37-cuda11-gpu'\n",
    "\n",
    "tf_env = Environment.get(workspace=ws, name=curated_env_name)"
   ]
  },
  {
   "cell_type": "markdown",
   "metadata": {},
   "source": [
    "### 6.2.2 Vlastní environment\n",
    "\n",
    "V případě že currated environments neobsahují některý z balíčků co potřebujeme, nabízí se možnost vytvořit si vlastní specifikaci. K vytvoření můžete použít existující virtuální prostředí Anaconda nebo soubor requirements.txt vygenerovaný skrz pip."
   ]
  },
  {
   "cell_type": "code",
   "execution_count": null,
   "metadata": {},
   "outputs": [],
   "source": [
    "# virtuální prostředí Anaconda\n",
    "tf_env = Environment.from_existing_conda_environment(name=\"tf_env\", conda_environment_name=\"<conda-env-name>\")\n",
    "\n",
    "\n",
    "# pip requirements.txt (pro generování v terminálu zadejte: pip freeze > requirements.txt)\n",
    "myenv = Environment.from_pip_requirements(name = \"tf_env\", file_path=\"<path-to-pip-requirements-file>\")                                          "
   ]
  },
  {
   "cell_type": "markdown",
   "metadata": {},
   "source": [
    "Další způsoby definování prostředí: https://docs.microsoft.com/en-us/azure/machine-learning/how-to-use-environments#use-a-curated-environment"
   ]
  },
  {
   "cell_type": "markdown",
   "metadata": {},
   "source": [
    "## 6.4 ScriptRunConfig a předávání parametrů \n",
    "\n",
    "ScriptRunConfig zaobaluje trénovací skript a předává jej Workspace. Jak název napovídá můžeme pomocí něj nastavovat jak má náš skript běžet. Jedná se o umístění trénovacího skriptu, compute target, prostředí a argumenty trénovacího skriptu."
   ]
  },
  {
   "cell_type": "code",
   "execution_count": null,
   "metadata": {},
   "outputs": [],
   "source": [
    "config = ScriptRunConfig(\n",
    "    source_directory='./src', # veškerý obsah adresáře src se přenese na compute target\n",
    "    script='train-script.py', # soubor který se má spustit\n",
    "    compute_target=aml_compute, \n",
    "    environment=tf_env,\n",
    "    arguments=args\n",
    ")"
   ]
  },
  {
   "cell_type": "markdown",
   "metadata": {},
   "source": [
    "Typicky chceme měnit hyperparametry našeho modelu. Než přímo pokaždé měnit parametry přímo v training scriptu můžeme je před spuštěním trénování nastavit přímo v control scriptu. Před definicí ScriptRunConfig nejdříve vytvoříme list s názvy parametrů a příslušnými hodnotami. Třeba takto:"
   ]
  },
  {
   "cell_type": "code",
   "execution_count": null,
   "metadata": {},
   "outputs": [],
   "source": [
    "args = [\n",
    "    '--batch-size' , 64,\n",
    "    '--learning-rate', 0.01,\n",
    "    '--epochs', 3\n",
    "]"
   ]
  },
  {
   "cell_type": "markdown",
   "metadata": {},
   "source": [
    "Na straně training scriptu můžeme argumenty přijmou pomocí knihovny argparse"
   ]
  },
  {
   "cell_type": "code",
   "execution_count": null,
   "metadata": {},
   "outputs": [],
   "source": [
    "import argparse\n",
    "\n",
    "parser = argparse.ArgumentParser()\n",
    "\n",
    "parser.add_argument('--batch-size', type=int, dest='batch_size', default=128)\n",
    "parser.add_argument('--learning-rate', type=float, dest='learning_rate', default=0.01)\n",
    "parser.add_argument('--epochs', type=int, dest='epochs', default=1)\n",
    "\n",
    "args = parser.parse_args()\n",
    "\n",
    "\"\"\"\n",
    "TIP: argparse můžete použít i při spouštění skriptu lokálně v terminálu\n",
    "\n",
    "python train-script.py --batch-size 64 --learning-rate 0.01 --epochs 3\n",
    "\"\"\""
   ]
  },
  {
   "cell_type": "markdown",
   "metadata": {},
   "source": [
    "Název proměné potom definuje atribut `dest`. Náš parametr uvnitř training scriptu pak dostaneme jako `args.batch_size`"
   ]
  },
  {
   "cell_type": "markdown",
   "metadata": {},
   "source": [
    "## 6.5 Objekt Run - ukládání metrik a tagy\n",
    "\n",
    "Instance objektu *Run* reprezentuje pokus neboli jedno spuštění trénování v rámci *experimentu* (viz níže). Můžeme ho použít pro asynchroní monitorování tréninku, ukládání metrik nebo jakýchkoliv jiných výstupů v training scriptu. Uvádím několik příkladů použití:"
   ]
  },
  {
   "cell_type": "code",
   "execution_count": null,
   "metadata": {},
   "outputs": [],
   "source": [
    "from azureml.core import Run\n",
    "\n",
    "run = Run.get_context() # získání instance\n",
    "\n",
    "# skalár\n",
    "run.log(\"accuracy\", 0.42)\n",
    "\n",
    "# list\n",
    "run.log_list(\"accuracies\", [0.31, 0.41, 0.59])\n",
    "\n",
    "# dictionary\n",
    "run.log_table(\"acc table\", {\"ep1\" : [0.27, 0.18], \"ep2\" : [0.28, 0.18]})\n",
    "\n",
    "# obrázek\n",
    "run.log_image(\"ROC\", path=./roc_curve\")"
   ]
  },
  {
   "cell_type": "markdown",
   "metadata": {},
   "source": [
    "Prostor pro metriky s danými jmény se vytvoří automaticky. \n",
    "\n",
    "Za zmínku ještě stojí možnost přidávat k jednotlivým pokusům tzv. **tagy**. Ty nám dovolí jednotlivé pokusy okomentovat nebo označit a usnadnit nám na konci návodu hledání v jejich seznamu. Pro přidání tagu zavoláme v training scriptu run.tag(\\<nazev tagu>, \\<hodnota>)\n",
    "\n",
    "Další využití objektu Run: https://docs.microsoft.com/en-us/python/api/azureml-core/azureml.core.run.run?view=azure-ml-py#azureml_core_run_Run_log_table\n",
    "\n",
    "\n"
   ]
  },
  {
   "cell_type": "markdown",
   "metadata": {},
   "source": [
    "## 6.3 Experiments\n",
    "\n",
    "Objekt *Experiment* můžete použít k seskupení několika pokusů týkajících se ověření jedné hypotézy. Například pro testování výkonu konkrétní architektury. Založit environment a získat objekt pro jeho obsluhu můžeme takto: (Pokud environment se zadaným jménem již existuje, vrátí objekt existujícího prostředí.)"
   ]
  },
  {
   "cell_type": "code",
   "execution_count": null,
   "metadata": {},
   "outputs": [],
   "source": [
    "experiment = Experiment(workspace=ws, name='cifar10-conv-test1')"
   ]
  },
  {
   "cell_type": "markdown",
   "metadata": {},
   "source": [
    "# 7. Upload datasetu do Azure Datastore\n",
    "\n",
    "Velikost datasetů může činit až několik GB a proto nedává smysl při každém spuštění trénování uploadovat i celý data set. Pokud jednorázově dataset nahrajeme na cloudové uložiště trénovací skript má data vždy u sebe, a my tak můžeme rychleji iterovat.\n",
    "\n",
    "Pro demonstraci budu model trénovat na datasetu populárním datasetu CIFAR-10, jenž obsahuje 60000 32x32, patřících do 10 tříd. Celý dataset pak zabírá 163 MB.\n",
    "\n",
    "Dataset můžeme jednoduše stáhnout do místní složky pomocí knihovny `tensorflow_datasets`."
   ]
  },
  {
   "cell_type": "code",
   "execution_count": null,
   "metadata": {},
   "outputs": [],
   "source": [
    "import tensorflow_datasets as tfds\n",
    "\n",
    "tfds.load(name=\"cifar10\", split=[\"train\", \"test\"], data_dir=\".\", download=True, as_supervised=True, batch_size=-1)"
   ]
  },
  {
   "cell_type": "markdown",
   "metadata": {},
   "source": [
    "<img src=\"img/cifar10_classes.jpg\" alt=\"cifar10_classes\" style=\"width: 600px;\"/>"
   ]
  },
  {
   "cell_type": "markdown",
   "metadata": {},
   "source": [
    "Nyní jak nahrát tento dataset do Cloudu. Azure Datastore vlastně není úplně uložiště samo o sobě. Pouze ukládá připojovací údaje ke klasickým Azure uložištím jako Blob Container, Data Lake, SQL Database etc. Jedná se tak o užitečnou abstrakci, která nám umožní se v trénovacím skriptu k uložišti připojit a jednat s ním jako s lokálním. \n",
    "\n",
    "Každý založený workspace už svůj defaultní datastore má, a proto nebudeme vytvářet nový. K uploadu nám stačí pouze specifikovat relativní cestu ke složce obsahující dataset spolu s cestou pod kterou později složku s datasetem najdeme při připojení na cloudové uložiště v training scriptu. "
   ]
  },
  {
   "cell_type": "code",
   "execution_count": null,
   "metadata": {},
   "outputs": [],
   "source": [
    "datastore = ws.get_default_datastore()\n",
    "\n",
    "datastore.upload(src_dir='./cifar10',\n",
    "                 target_path='datasets/cifar10',\n",
    "                 overwrite=True) # Pokud na uložišti soubor s tímto názvem existuje přepíše se."
   ]
  },
  {
   "cell_type": "markdown",
   "metadata": {},
   "source": [
    "V control scriptu poté můžeme získat referenci na uložiště. "
   ]
  },
  {
   "cell_type": "code",
   "execution_count": null,
   "metadata": {},
   "outputs": [],
   "source": [
    "data_ref = datastore.path('datasets').as_mount()"
   ]
  },
  {
   "cell_type": "markdown",
   "metadata": {},
   "source": [
    "Aby mohl training script přistupovat k úložišti jako k lokálnímu musíme\n",
    "\n",
    "1. referenci předat skrz argumenty v ScriptConfig jako `str(data_ref)`\n",
    "2. nastavit její název jako `config.run_config.data_references = {data_ref.data_reference_name : data_ref.to_config()}`\n",
    "\n",
    "(konkrétně ukázáno níže)\n",
    "\n"
   ]
  },
  {
   "cell_type": "markdown",
   "metadata": {},
   "source": [
    "# 8. Dáváme to dohromady"
   ]
  },
  {
   "cell_type": "markdown",
   "metadata": {},
   "source": [
    "Teď známe vše potřebné abychom mohli začít s trénováním. Následují detailně okomentované soubory control-script.py a training-script.py, které obsahují již v předchozích sekcích zmíněné prvky.\n",
    "\n",
    "Oba soubory jsou přiloženy k tomuto notebooku. Můžete si je později upravit pro vlastní účely."
   ]
  },
  {
   "cell_type": "markdown",
   "metadata": {},
   "source": [
    "## 8.1 Control script"
   ]
  },
  {
   "cell_type": "code",
   "execution_count": 21,
   "metadata": {},
   "outputs": [
    {
     "data": {
      "text/html": [
       "<style type=\"text/css\">pre { line-height: 125%; }\n",
       "td.linenos .normal { color: inherit; background-color: transparent; padding-left: 5px; padding-right: 5px; }\n",
       "span.linenos { color: inherit; background-color: transparent; padding-left: 5px; padding-right: 5px; }\n",
       "td.linenos .special { color: #000000; background-color: #ffffc0; padding-left: 5px; padding-right: 5px; }\n",
       "span.linenos.special { color: #000000; background-color: #ffffc0; padding-left: 5px; padding-right: 5px; }\n",
       ".highlight .hll { background-color: #ffffcc }\n",
       ".highlight { background: #f8f8f8; }\n",
       ".highlight .c { color: #408080; font-style: italic } /* Comment */\n",
       ".highlight .err { border: 1px solid #FF0000 } /* Error */\n",
       ".highlight .k { color: #008000; font-weight: bold } /* Keyword */\n",
       ".highlight .o { color: #666666 } /* Operator */\n",
       ".highlight .ch { color: #408080; font-style: italic } /* Comment.Hashbang */\n",
       ".highlight .cm { color: #408080; font-style: italic } /* Comment.Multiline */\n",
       ".highlight .cp { color: #BC7A00 } /* Comment.Preproc */\n",
       ".highlight .cpf { color: #408080; font-style: italic } /* Comment.PreprocFile */\n",
       ".highlight .c1 { color: #408080; font-style: italic } /* Comment.Single */\n",
       ".highlight .cs { color: #408080; font-style: italic } /* Comment.Special */\n",
       ".highlight .gd { color: #A00000 } /* Generic.Deleted */\n",
       ".highlight .ge { font-style: italic } /* Generic.Emph */\n",
       ".highlight .gr { color: #FF0000 } /* Generic.Error */\n",
       ".highlight .gh { color: #000080; font-weight: bold } /* Generic.Heading */\n",
       ".highlight .gi { color: #00A000 } /* Generic.Inserted */\n",
       ".highlight .go { color: #888888 } /* Generic.Output */\n",
       ".highlight .gp { color: #000080; font-weight: bold } /* Generic.Prompt */\n",
       ".highlight .gs { font-weight: bold } /* Generic.Strong */\n",
       ".highlight .gu { color: #800080; font-weight: bold } /* Generic.Subheading */\n",
       ".highlight .gt { color: #0044DD } /* Generic.Traceback */\n",
       ".highlight .kc { color: #008000; font-weight: bold } /* Keyword.Constant */\n",
       ".highlight .kd { color: #008000; font-weight: bold } /* Keyword.Declaration */\n",
       ".highlight .kn { color: #008000; font-weight: bold } /* Keyword.Namespace */\n",
       ".highlight .kp { color: #008000 } /* Keyword.Pseudo */\n",
       ".highlight .kr { color: #008000; font-weight: bold } /* Keyword.Reserved */\n",
       ".highlight .kt { color: #B00040 } /* Keyword.Type */\n",
       ".highlight .m { color: #666666 } /* Literal.Number */\n",
       ".highlight .s { color: #BA2121 } /* Literal.String */\n",
       ".highlight .na { color: #7D9029 } /* Name.Attribute */\n",
       ".highlight .nb { color: #008000 } /* Name.Builtin */\n",
       ".highlight .nc { color: #0000FF; font-weight: bold } /* Name.Class */\n",
       ".highlight .no { color: #880000 } /* Name.Constant */\n",
       ".highlight .nd { color: #AA22FF } /* Name.Decorator */\n",
       ".highlight .ni { color: #999999; font-weight: bold } /* Name.Entity */\n",
       ".highlight .ne { color: #D2413A; font-weight: bold } /* Name.Exception */\n",
       ".highlight .nf { color: #0000FF } /* Name.Function */\n",
       ".highlight .nl { color: #A0A000 } /* Name.Label */\n",
       ".highlight .nn { color: #0000FF; font-weight: bold } /* Name.Namespace */\n",
       ".highlight .nt { color: #008000; font-weight: bold } /* Name.Tag */\n",
       ".highlight .nv { color: #19177C } /* Name.Variable */\n",
       ".highlight .ow { color: #AA22FF; font-weight: bold } /* Operator.Word */\n",
       ".highlight .w { color: #bbbbbb } /* Text.Whitespace */\n",
       ".highlight .mb { color: #666666 } /* Literal.Number.Bin */\n",
       ".highlight .mf { color: #666666 } /* Literal.Number.Float */\n",
       ".highlight .mh { color: #666666 } /* Literal.Number.Hex */\n",
       ".highlight .mi { color: #666666 } /* Literal.Number.Integer */\n",
       ".highlight .mo { color: #666666 } /* Literal.Number.Oct */\n",
       ".highlight .sa { color: #BA2121 } /* Literal.String.Affix */\n",
       ".highlight .sb { color: #BA2121 } /* Literal.String.Backtick */\n",
       ".highlight .sc { color: #BA2121 } /* Literal.String.Char */\n",
       ".highlight .dl { color: #BA2121 } /* Literal.String.Delimiter */\n",
       ".highlight .sd { color: #BA2121; font-style: italic } /* Literal.String.Doc */\n",
       ".highlight .s2 { color: #BA2121 } /* Literal.String.Double */\n",
       ".highlight .se { color: #BB6622; font-weight: bold } /* Literal.String.Escape */\n",
       ".highlight .sh { color: #BA2121 } /* Literal.String.Heredoc */\n",
       ".highlight .si { color: #BB6688; font-weight: bold } /* Literal.String.Interpol */\n",
       ".highlight .sx { color: #008000 } /* Literal.String.Other */\n",
       ".highlight .sr { color: #BB6688 } /* Literal.String.Regex */\n",
       ".highlight .s1 { color: #BA2121 } /* Literal.String.Single */\n",
       ".highlight .ss { color: #19177C } /* Literal.String.Symbol */\n",
       ".highlight .bp { color: #008000 } /* Name.Builtin.Pseudo */\n",
       ".highlight .fm { color: #0000FF } /* Name.Function.Magic */\n",
       ".highlight .vc { color: #19177C } /* Name.Variable.Class */\n",
       ".highlight .vg { color: #19177C } /* Name.Variable.Global */\n",
       ".highlight .vi { color: #19177C } /* Name.Variable.Instance */\n",
       ".highlight .vm { color: #19177C } /* Name.Variable.Magic */\n",
       ".highlight .il { color: #666666 } /* Literal.Number.Integer.Long */</style><div class=\"highlight\"><pre><span></span><span class=\"kn\">from</span> <span class=\"nn\">azureml.core</span> <span class=\"kn\">import</span> <span class=\"n\">Workspace</span><span class=\"p\">,</span> <span class=\"n\">Experiment</span><span class=\"p\">,</span> <span class=\"n\">Environment</span><span class=\"p\">,</span> <span class=\"n\">ScriptRunConfig</span>\n",
       "<span class=\"kn\">from</span> <span class=\"nn\">azureml.core.compute</span> <span class=\"kn\">import</span> <span class=\"n\">ComputeTarget</span><span class=\"p\">,</span> <span class=\"n\">AmlCompute</span>\n",
       "<span class=\"kn\">from</span> <span class=\"nn\">azureml.core.compute_target</span> <span class=\"kn\">import</span> <span class=\"n\">ComputeTargetException</span>\n",
       "\n",
       "<span class=\"c1\"># získání workspace z config.json</span>\n",
       "<span class=\"n\">ws</span> <span class=\"o\">=</span> <span class=\"n\">Workspace</span><span class=\"o\">.</span><span class=\"n\">from_config</span><span class=\"p\">()</span>\n",
       "\n",
       "<span class=\"c1\"># název experimentu</span>\n",
       "<span class=\"n\">experiment</span> <span class=\"o\">=</span> <span class=\"n\">Experiment</span><span class=\"p\">(</span><span class=\"n\">workspace</span><span class=\"o\">=</span><span class=\"n\">ws</span><span class=\"p\">,</span> <span class=\"n\">name</span><span class=\"o\">=</span><span class=\"s1\">&#39;cifar10-conv-test1&#39;</span><span class=\"p\">)</span>\n",
       "\n",
       "<span class=\"c1\"># název compute targetu</span>\n",
       "<span class=\"n\">compute_target_name</span> <span class=\"o\">=</span> <span class=\"s1\">&#39;gpu-cluster1&#39;</span>\n",
       "\n",
       "<span class=\"k\">try</span><span class=\"p\">:</span>\n",
       "    <span class=\"n\">aml_compute</span> <span class=\"o\">=</span> <span class=\"n\">ComputeTarget</span><span class=\"p\">(</span><span class=\"n\">workspace</span><span class=\"o\">=</span><span class=\"n\">ws</span><span class=\"p\">,</span> <span class=\"n\">name</span><span class=\"o\">=</span><span class=\"n\">compute_target_name</span><span class=\"p\">)</span>\n",
       "    <span class=\"nb\">print</span><span class=\"p\">(</span><span class=\"s1\">&#39;Nalezen již existující compute target: &#39;</span><span class=\"p\">,</span> <span class=\"n\">aml_compute</span><span class=\"o\">.</span><span class=\"n\">name</span><span class=\"p\">)</span>\n",
       "\n",
       "<span class=\"k\">except</span> <span class=\"n\">ComputeTargetException</span><span class=\"p\">:</span> <span class=\"c1\"># compute target s tímto jménem neexistuje</span>\n",
       "    <span class=\"nb\">print</span><span class=\"p\">(</span><span class=\"s1\">&#39;Vytvářím nový compute target&#39;</span><span class=\"p\">)</span>\n",
       "\n",
       "    <span class=\"c1\"># konfigurace compute target</span>\n",
       "    <span class=\"n\">aml_config</span> <span class=\"o\">=</span> <span class=\"n\">AmlCompute</span><span class=\"o\">.</span><span class=\"n\">provisioning_configuration</span><span class=\"p\">(</span>\n",
       "        <span class=\"n\">vm_size</span><span class=\"o\">=</span><span class=\"s2\">&quot;Standard_NC6&quot;</span><span class=\"p\">,</span> <span class=\"c1\"># CREATE INFOR ABOUT DIFF TYPES</span>\n",
       "        <span class=\"n\">vm_priority</span><span class=\"o\">=</span><span class=\"s2\">&quot;dedicated&quot;</span><span class=\"p\">,</span> <span class=\"c1\"># TRY WITH LOW PRIORITY, previosly this did not work for some reason</span>\n",
       "        <span class=\"n\">min_nodes</span> <span class=\"o\">=</span> <span class=\"mi\">0</span><span class=\"p\">,</span> \n",
       "        <span class=\"n\">max_nodes</span> <span class=\"o\">=</span> <span class=\"mi\">4</span><span class=\"p\">,</span>\n",
       "        <span class=\"n\">idle_seconds_before_scaledown</span><span class=\"o\">=</span><span class=\"mi\">300</span> \n",
       "    <span class=\"p\">)</span>\n",
       "\n",
       "    <span class=\"n\">aml_compute</span> <span class=\"o\">=</span> <span class=\"n\">ComputeTarget</span><span class=\"o\">.</span><span class=\"n\">create</span><span class=\"p\">(</span>\n",
       "        <span class=\"n\">ws</span><span class=\"p\">,</span> \n",
       "        <span class=\"n\">name</span><span class=\"o\">=</span><span class=\"n\">compute_target_name</span><span class=\"p\">,</span> \n",
       "        <span class=\"n\">provisioning_configuration</span><span class=\"o\">=</span><span class=\"n\">aml_config</span>\n",
       "    <span class=\"p\">)</span>\n",
       "\n",
       "    <span class=\"c1\"># spuštěný kód čeká na dokončení vytvoření compute target</span>\n",
       "    <span class=\"n\">aml_compute</span><span class=\"o\">.</span><span class=\"n\">wait_for_completion</span><span class=\"p\">(</span><span class=\"n\">show_output</span><span class=\"o\">=</span><span class=\"kc\">True</span><span class=\"p\">)</span>\n",
       "\n",
       "\n",
       "<span class=\"n\">curated_env_name</span> <span class=\"o\">=</span> <span class=\"s1\">&#39;AzureML-tensorflow-2.4-ubuntu18.04-py37-cuda11-gpu&#39;</span> <span class=\"c1\"># název currated prostředí</span>\n",
       "<span class=\"n\">tf_env</span> <span class=\"o\">=</span> <span class=\"n\">Environment</span><span class=\"o\">.</span><span class=\"n\">get</span><span class=\"p\">(</span><span class=\"n\">workspace</span><span class=\"o\">=</span><span class=\"n\">ws</span><span class=\"p\">,</span> <span class=\"n\">name</span><span class=\"o\">=</span><span class=\"n\">curated_env_name</span><span class=\"p\">)</span>\n",
       "\n",
       "<span class=\"n\">datastore</span> <span class=\"o\">=</span> <span class=\"n\">ws</span><span class=\"o\">.</span><span class=\"n\">get_default_datastore</span><span class=\"p\">()</span> <span class=\"c1\"># získání defaultního datastoru</span>\n",
       "<span class=\"n\">data_ref</span> <span class=\"o\">=</span> <span class=\"n\">datastore</span><span class=\"o\">.</span><span class=\"n\">path</span><span class=\"p\">(</span><span class=\"s1\">&#39;datasets&#39;</span><span class=\"p\">)</span><span class=\"o\">.</span><span class=\"n\">as_mount</span><span class=\"p\">()</span> <span class=\"c1\"># získání reference na úložiště</span>\n",
       "\n",
       "<span class=\"c1\"># argumenty pro training-script.py</span>\n",
       "<span class=\"n\">args</span> <span class=\"o\">=</span> <span class=\"p\">[</span>\n",
       "    <span class=\"s1\">&#39;--batch-size&#39;</span> <span class=\"p\">,</span> <span class=\"mi\">64</span><span class=\"p\">,</span>\n",
       "    <span class=\"s1\">&#39;--learning-rate&#39;</span><span class=\"p\">,</span> <span class=\"mf\">0.01</span><span class=\"p\">,</span>\n",
       "    <span class=\"s1\">&#39;--epochs&#39;</span><span class=\"p\">,</span> <span class=\"mi\">1</span><span class=\"p\">,</span>\n",
       "    <span class=\"s1\">&#39;--data-path&#39;</span><span class=\"p\">,</span> <span class=\"nb\">str</span><span class=\"p\">(</span><span class=\"n\">data_ref</span><span class=\"p\">),</span>\n",
       "    <span class=\"s1\">&#39;--run-num&#39;</span><span class=\"p\">,</span> <span class=\"mi\">3</span>\n",
       "<span class=\"p\">]</span>\n",
       "\n",
       "<span class=\"c1\"># konfigurace trénování</span>\n",
       "<span class=\"n\">config</span> <span class=\"o\">=</span> <span class=\"n\">ScriptRunConfig</span><span class=\"p\">(</span>\n",
       "    <span class=\"n\">source_directory</span><span class=\"o\">=</span><span class=\"s1\">&#39;./src&#39;</span><span class=\"p\">,</span>\n",
       "    <span class=\"n\">script</span><span class=\"o\">=</span><span class=\"s1\">&#39;training-script.py&#39;</span><span class=\"p\">,</span>\n",
       "    <span class=\"n\">compute_target</span><span class=\"o\">=</span><span class=\"n\">aml_compute</span><span class=\"p\">,</span>\n",
       "    <span class=\"n\">environment</span><span class=\"o\">=</span><span class=\"n\">tf_env</span><span class=\"p\">,</span>\n",
       "    <span class=\"n\">arguments</span><span class=\"o\">=</span><span class=\"n\">args</span>\n",
       "<span class=\"p\">)</span>\n",
       "\n",
       "<span class=\"c1\"># přidání reference do konfigurace</span>\n",
       "<span class=\"n\">config</span><span class=\"o\">.</span><span class=\"n\">run_config</span><span class=\"o\">.</span><span class=\"n\">data_references</span> <span class=\"o\">=</span> <span class=\"p\">{</span><span class=\"n\">data_ref</span><span class=\"o\">.</span><span class=\"n\">data_reference_name</span> <span class=\"p\">:</span> <span class=\"n\">data_ref</span><span class=\"o\">.</span><span class=\"n\">to_config</span><span class=\"p\">()}</span>\n",
       "\n",
       "<span class=\"n\">run</span> <span class=\"o\">=</span> <span class=\"n\">experiment</span><span class=\"o\">.</span><span class=\"n\">submit</span><span class=\"p\">(</span><span class=\"n\">config</span><span class=\"p\">)</span> <span class=\"c1\"># začátek trénování na cloudu</span>\n",
       "<span class=\"n\">aml_url</span> <span class=\"o\">=</span> <span class=\"n\">run</span><span class=\"o\">.</span><span class=\"n\">get_portal_url</span><span class=\"p\">()</span> <span class=\"c1\"># url pro sledování pokroku</span>\n",
       "\n",
       "<span class=\"nb\">print</span><span class=\"p\">(</span><span class=\"s2\">&quot;Submitted to compute cluster. Click link below</span><span class=\"se\">\\n</span><span class=\"s2\">&quot;</span><span class=\"p\">)</span>\n",
       "<span class=\"nb\">print</span><span class=\"p\">(</span><span class=\"n\">aml_url</span><span class=\"p\">)</span>\n",
       "</pre></div>\n"
      ],
      "text/plain": [
       "<IPython.core.display.HTML object>"
      ]
     },
     "execution_count": 21,
     "metadata": {},
     "output_type": "execute_result"
    }
   ],
   "source": [
    "from pygments import highlight; from pygments.lexers import PythonLexer; from pygments.formatters import HtmlFormatter; import IPython;\n",
    "with open('control-script.py') as f: code = f.read(); formatter = HtmlFormatter(); \n",
    "IPython.display.HTML('<style type=\"text/css\">{}</style>{}'.format(formatter.get_style_defs('.highlight'),highlight(code, PythonLexer(), formatter)))"
   ]
  },
  {
   "cell_type": "markdown",
   "metadata": {},
   "source": [
    "### 8.2 Training script"
   ]
  },
  {
   "cell_type": "code",
   "execution_count": 13,
   "metadata": {
    "scrolled": false
   },
   "outputs": [
    {
     "data": {
      "text/html": [
       "<style type=\"text/css\">pre { line-height: 125%; }\n",
       "td.linenos .normal { color: inherit; background-color: transparent; padding-left: 5px; padding-right: 5px; }\n",
       "span.linenos { color: inherit; background-color: transparent; padding-left: 5px; padding-right: 5px; }\n",
       "td.linenos .special { color: #000000; background-color: #ffffc0; padding-left: 5px; padding-right: 5px; }\n",
       "span.linenos.special { color: #000000; background-color: #ffffc0; padding-left: 5px; padding-right: 5px; }\n",
       ".highlight .hll { background-color: #ffffcc }\n",
       ".highlight { background: #f8f8f8; }\n",
       ".highlight .c { color: #408080; font-style: italic } /* Comment */\n",
       ".highlight .err { border: 1px solid #FF0000 } /* Error */\n",
       ".highlight .k { color: #008000; font-weight: bold } /* Keyword */\n",
       ".highlight .o { color: #666666 } /* Operator */\n",
       ".highlight .ch { color: #408080; font-style: italic } /* Comment.Hashbang */\n",
       ".highlight .cm { color: #408080; font-style: italic } /* Comment.Multiline */\n",
       ".highlight .cp { color: #BC7A00 } /* Comment.Preproc */\n",
       ".highlight .cpf { color: #408080; font-style: italic } /* Comment.PreprocFile */\n",
       ".highlight .c1 { color: #408080; font-style: italic } /* Comment.Single */\n",
       ".highlight .cs { color: #408080; font-style: italic } /* Comment.Special */\n",
       ".highlight .gd { color: #A00000 } /* Generic.Deleted */\n",
       ".highlight .ge { font-style: italic } /* Generic.Emph */\n",
       ".highlight .gr { color: #FF0000 } /* Generic.Error */\n",
       ".highlight .gh { color: #000080; font-weight: bold } /* Generic.Heading */\n",
       ".highlight .gi { color: #00A000 } /* Generic.Inserted */\n",
       ".highlight .go { color: #888888 } /* Generic.Output */\n",
       ".highlight .gp { color: #000080; font-weight: bold } /* Generic.Prompt */\n",
       ".highlight .gs { font-weight: bold } /* Generic.Strong */\n",
       ".highlight .gu { color: #800080; font-weight: bold } /* Generic.Subheading */\n",
       ".highlight .gt { color: #0044DD } /* Generic.Traceback */\n",
       ".highlight .kc { color: #008000; font-weight: bold } /* Keyword.Constant */\n",
       ".highlight .kd { color: #008000; font-weight: bold } /* Keyword.Declaration */\n",
       ".highlight .kn { color: #008000; font-weight: bold } /* Keyword.Namespace */\n",
       ".highlight .kp { color: #008000 } /* Keyword.Pseudo */\n",
       ".highlight .kr { color: #008000; font-weight: bold } /* Keyword.Reserved */\n",
       ".highlight .kt { color: #B00040 } /* Keyword.Type */\n",
       ".highlight .m { color: #666666 } /* Literal.Number */\n",
       ".highlight .s { color: #BA2121 } /* Literal.String */\n",
       ".highlight .na { color: #7D9029 } /* Name.Attribute */\n",
       ".highlight .nb { color: #008000 } /* Name.Builtin */\n",
       ".highlight .nc { color: #0000FF; font-weight: bold } /* Name.Class */\n",
       ".highlight .no { color: #880000 } /* Name.Constant */\n",
       ".highlight .nd { color: #AA22FF } /* Name.Decorator */\n",
       ".highlight .ni { color: #999999; font-weight: bold } /* Name.Entity */\n",
       ".highlight .ne { color: #D2413A; font-weight: bold } /* Name.Exception */\n",
       ".highlight .nf { color: #0000FF } /* Name.Function */\n",
       ".highlight .nl { color: #A0A000 } /* Name.Label */\n",
       ".highlight .nn { color: #0000FF; font-weight: bold } /* Name.Namespace */\n",
       ".highlight .nt { color: #008000; font-weight: bold } /* Name.Tag */\n",
       ".highlight .nv { color: #19177C } /* Name.Variable */\n",
       ".highlight .ow { color: #AA22FF; font-weight: bold } /* Operator.Word */\n",
       ".highlight .w { color: #bbbbbb } /* Text.Whitespace */\n",
       ".highlight .mb { color: #666666 } /* Literal.Number.Bin */\n",
       ".highlight .mf { color: #666666 } /* Literal.Number.Float */\n",
       ".highlight .mh { color: #666666 } /* Literal.Number.Hex */\n",
       ".highlight .mi { color: #666666 } /* Literal.Number.Integer */\n",
       ".highlight .mo { color: #666666 } /* Literal.Number.Oct */\n",
       ".highlight .sa { color: #BA2121 } /* Literal.String.Affix */\n",
       ".highlight .sb { color: #BA2121 } /* Literal.String.Backtick */\n",
       ".highlight .sc { color: #BA2121 } /* Literal.String.Char */\n",
       ".highlight .dl { color: #BA2121 } /* Literal.String.Delimiter */\n",
       ".highlight .sd { color: #BA2121; font-style: italic } /* Literal.String.Doc */\n",
       ".highlight .s2 { color: #BA2121 } /* Literal.String.Double */\n",
       ".highlight .se { color: #BB6622; font-weight: bold } /* Literal.String.Escape */\n",
       ".highlight .sh { color: #BA2121 } /* Literal.String.Heredoc */\n",
       ".highlight .si { color: #BB6688; font-weight: bold } /* Literal.String.Interpol */\n",
       ".highlight .sx { color: #008000 } /* Literal.String.Other */\n",
       ".highlight .sr { color: #BB6688 } /* Literal.String.Regex */\n",
       ".highlight .s1 { color: #BA2121 } /* Literal.String.Single */\n",
       ".highlight .ss { color: #19177C } /* Literal.String.Symbol */\n",
       ".highlight .bp { color: #008000 } /* Name.Builtin.Pseudo */\n",
       ".highlight .fm { color: #0000FF } /* Name.Function.Magic */\n",
       ".highlight .vc { color: #19177C } /* Name.Variable.Class */\n",
       ".highlight .vg { color: #19177C } /* Name.Variable.Global */\n",
       ".highlight .vi { color: #19177C } /* Name.Variable.Instance */\n",
       ".highlight .vm { color: #19177C } /* Name.Variable.Magic */\n",
       ".highlight .il { color: #666666 } /* Literal.Number.Integer.Long */</style><div class=\"highlight\"><pre><span></span><span class=\"kn\">import</span> <span class=\"nn\">tensorflow</span> <span class=\"k\">as</span> <span class=\"nn\">tf</span>\n",
       "<span class=\"kn\">from</span> <span class=\"nn\">tensorflow.keras</span> <span class=\"kn\">import</span> <span class=\"n\">layers</span><span class=\"p\">,</span> <span class=\"n\">models</span>\n",
       "<span class=\"kn\">import</span> <span class=\"nn\">tensorflow_datasets</span> <span class=\"k\">as</span> <span class=\"nn\">tfds</span>\n",
       "<span class=\"kn\">from</span> <span class=\"nn\">azureml.core</span> <span class=\"kn\">import</span> <span class=\"n\">Run</span>\n",
       "<span class=\"kn\">import</span> <span class=\"nn\">argparse</span>\n",
       "\n",
       "<span class=\"c1\"># definice argumentů jež předává control-script.py</span>\n",
       "<span class=\"n\">parser</span> <span class=\"o\">=</span> <span class=\"n\">argparse</span><span class=\"o\">.</span><span class=\"n\">ArgumentParser</span><span class=\"p\">()</span>\n",
       "<span class=\"n\">parser</span><span class=\"o\">.</span><span class=\"n\">add_argument</span><span class=\"p\">(</span><span class=\"s1\">&#39;--batch-size&#39;</span><span class=\"p\">,</span> <span class=\"nb\">type</span><span class=\"o\">=</span><span class=\"nb\">int</span><span class=\"p\">,</span> <span class=\"n\">dest</span><span class=\"o\">=</span><span class=\"s1\">&#39;batch_size&#39;</span><span class=\"p\">,</span> <span class=\"n\">default</span><span class=\"o\">=</span><span class=\"mi\">128</span><span class=\"p\">)</span>\n",
       "<span class=\"n\">parser</span><span class=\"o\">.</span><span class=\"n\">add_argument</span><span class=\"p\">(</span><span class=\"s1\">&#39;--learning-rate&#39;</span><span class=\"p\">,</span> <span class=\"nb\">type</span><span class=\"o\">=</span><span class=\"nb\">float</span><span class=\"p\">,</span> <span class=\"n\">dest</span><span class=\"o\">=</span><span class=\"s1\">&#39;learning_rate&#39;</span><span class=\"p\">,</span> <span class=\"n\">default</span><span class=\"o\">=</span><span class=\"mf\">0.01</span><span class=\"p\">)</span>\n",
       "<span class=\"n\">parser</span><span class=\"o\">.</span><span class=\"n\">add_argument</span><span class=\"p\">(</span><span class=\"s1\">&#39;--epochs&#39;</span><span class=\"p\">,</span> <span class=\"nb\">type</span><span class=\"o\">=</span><span class=\"nb\">int</span><span class=\"p\">,</span> <span class=\"n\">dest</span><span class=\"o\">=</span><span class=\"s1\">&#39;epochs&#39;</span><span class=\"p\">,</span> <span class=\"n\">default</span><span class=\"o\">=</span><span class=\"mi\">1</span><span class=\"p\">)</span>\n",
       "<span class=\"n\">parser</span><span class=\"o\">.</span><span class=\"n\">add_argument</span><span class=\"p\">(</span><span class=\"s1\">&#39;--data-path&#39;</span><span class=\"p\">,</span> <span class=\"nb\">type</span><span class=\"o\">=</span><span class=\"nb\">str</span><span class=\"p\">,</span> <span class=\"n\">dest</span><span class=\"o\">=</span><span class=\"s1\">&#39;data_path&#39;</span><span class=\"p\">)</span>\n",
       "<span class=\"n\">parser</span><span class=\"o\">.</span><span class=\"n\">add_argument</span><span class=\"p\">(</span><span class=\"s1\">&#39;--run-num&#39;</span><span class=\"p\">,</span> <span class=\"nb\">type</span><span class=\"o\">=</span><span class=\"nb\">int</span><span class=\"p\">,</span> <span class=\"n\">dest</span><span class=\"o\">=</span><span class=\"s1\">&#39;run_num&#39;</span><span class=\"p\">)</span>\n",
       "\n",
       "<span class=\"n\">args</span> <span class=\"o\">=</span> <span class=\"n\">parser</span><span class=\"o\">.</span><span class=\"n\">parse_args</span><span class=\"p\">()</span> <span class=\"c1\"># získá argumenty</span>\n",
       "\n",
       "\n",
       "<span class=\"n\">run</span> <span class=\"o\">=</span> <span class=\"n\">Run</span><span class=\"o\">.</span><span class=\"n\">get_context</span><span class=\"p\">()</span>\n",
       "<span class=\"n\">run</span><span class=\"o\">.</span><span class=\"n\">tag</span><span class=\"p\">(</span><span class=\"s2\">&quot;run number&quot;</span><span class=\"p\">,</span> <span class=\"n\">args</span><span class=\"o\">.</span><span class=\"n\">run_num</span><span class=\"p\">)</span>\n",
       "\n",
       "\n",
       "<span class=\"c1\"># definice modelu</span>\n",
       "<span class=\"n\">model</span> <span class=\"o\">=</span> <span class=\"n\">models</span><span class=\"o\">.</span><span class=\"n\">Sequential</span><span class=\"p\">()</span>\n",
       "<span class=\"n\">model</span><span class=\"o\">.</span><span class=\"n\">add</span><span class=\"p\">(</span><span class=\"n\">layers</span><span class=\"o\">.</span><span class=\"n\">Conv2D</span><span class=\"p\">(</span><span class=\"mi\">32</span><span class=\"p\">,</span> <span class=\"p\">(</span><span class=\"mi\">3</span><span class=\"p\">,</span> <span class=\"mi\">3</span><span class=\"p\">),</span> <span class=\"n\">activation</span><span class=\"o\">=</span><span class=\"s1\">&#39;relu&#39;</span><span class=\"p\">,</span> <span class=\"n\">input_shape</span><span class=\"o\">=</span><span class=\"p\">(</span><span class=\"mi\">32</span><span class=\"p\">,</span> <span class=\"mi\">32</span><span class=\"p\">,</span> <span class=\"mi\">3</span><span class=\"p\">)))</span>\n",
       "<span class=\"n\">model</span><span class=\"o\">.</span><span class=\"n\">add</span><span class=\"p\">(</span><span class=\"n\">layers</span><span class=\"o\">.</span><span class=\"n\">MaxPooling2D</span><span class=\"p\">((</span><span class=\"mi\">2</span><span class=\"p\">,</span> <span class=\"mi\">2</span><span class=\"p\">)))</span>\n",
       "<span class=\"n\">model</span><span class=\"o\">.</span><span class=\"n\">add</span><span class=\"p\">(</span><span class=\"n\">layers</span><span class=\"o\">.</span><span class=\"n\">Conv2D</span><span class=\"p\">(</span><span class=\"mi\">64</span><span class=\"p\">,</span> <span class=\"p\">(</span><span class=\"mi\">3</span><span class=\"p\">,</span> <span class=\"mi\">3</span><span class=\"p\">),</span> <span class=\"n\">activation</span><span class=\"o\">=</span><span class=\"s1\">&#39;relu&#39;</span><span class=\"p\">))</span>\n",
       "<span class=\"n\">model</span><span class=\"o\">.</span><span class=\"n\">add</span><span class=\"p\">(</span><span class=\"n\">layers</span><span class=\"o\">.</span><span class=\"n\">MaxPooling2D</span><span class=\"p\">((</span><span class=\"mi\">2</span><span class=\"p\">,</span> <span class=\"mi\">2</span><span class=\"p\">)))</span>\n",
       "<span class=\"n\">model</span><span class=\"o\">.</span><span class=\"n\">add</span><span class=\"p\">(</span><span class=\"n\">layers</span><span class=\"o\">.</span><span class=\"n\">Conv2D</span><span class=\"p\">(</span><span class=\"mi\">64</span><span class=\"p\">,</span> <span class=\"p\">(</span><span class=\"mi\">3</span><span class=\"p\">,</span> <span class=\"mi\">3</span><span class=\"p\">),</span> <span class=\"n\">activation</span><span class=\"o\">=</span><span class=\"s1\">&#39;relu&#39;</span><span class=\"p\">))</span>\n",
       "\n",
       "<span class=\"n\">model</span><span class=\"o\">.</span><span class=\"n\">add</span><span class=\"p\">(</span><span class=\"n\">layers</span><span class=\"o\">.</span><span class=\"n\">Flatten</span><span class=\"p\">())</span>\n",
       "<span class=\"n\">model</span><span class=\"o\">.</span><span class=\"n\">add</span><span class=\"p\">(</span><span class=\"n\">layers</span><span class=\"o\">.</span><span class=\"n\">Dense</span><span class=\"p\">(</span><span class=\"mi\">64</span><span class=\"p\">,</span> <span class=\"n\">activation</span><span class=\"o\">=</span><span class=\"s1\">&#39;relu&#39;</span><span class=\"p\">))</span>\n",
       "<span class=\"n\">model</span><span class=\"o\">.</span><span class=\"n\">add</span><span class=\"p\">(</span><span class=\"n\">layers</span><span class=\"o\">.</span><span class=\"n\">Dense</span><span class=\"p\">(</span><span class=\"mi\">10</span><span class=\"p\">))</span>\n",
       "\n",
       "\n",
       "<span class=\"c1\"># kompilace modelu</span>\n",
       "<span class=\"n\">model</span><span class=\"o\">.</span><span class=\"n\">compile</span><span class=\"p\">(</span><span class=\"n\">optimizer</span><span class=\"o\">=</span><span class=\"s1\">&#39;adam&#39;</span><span class=\"p\">,</span>\n",
       "              <span class=\"n\">loss</span><span class=\"o\">=</span><span class=\"n\">tf</span><span class=\"o\">.</span><span class=\"n\">keras</span><span class=\"o\">.</span><span class=\"n\">losses</span><span class=\"o\">.</span><span class=\"n\">SparseCategoricalCrossentropy</span><span class=\"p\">(</span><span class=\"n\">from_logits</span><span class=\"o\">=</span><span class=\"kc\">True</span><span class=\"p\">),</span>\n",
       "              <span class=\"n\">metrics</span><span class=\"o\">=</span><span class=\"p\">[</span><span class=\"s1\">&#39;accuracy&#39;</span><span class=\"p\">])</span>\n",
       "\n",
       "\n",
       "<span class=\"c1\"># načtení datasetu</span>\n",
       "<span class=\"p\">(</span><span class=\"n\">train_images</span><span class=\"p\">,</span> <span class=\"n\">train_labels</span><span class=\"p\">),</span> <span class=\"p\">(</span><span class=\"n\">test_images</span><span class=\"p\">,</span> <span class=\"n\">test_labels</span><span class=\"p\">)</span> <span class=\"o\">=</span> <span class=\"n\">tfds</span><span class=\"o\">.</span><span class=\"n\">load</span><span class=\"p\">(</span><span class=\"n\">name</span><span class=\"o\">=</span><span class=\"s2\">&quot;cifar10&quot;</span><span class=\"p\">,</span> <span class=\"n\">split</span><span class=\"o\">=</span><span class=\"p\">[</span><span class=\"s2\">&quot;train&quot;</span><span class=\"p\">,</span> <span class=\"s2\">&quot;test&quot;</span><span class=\"p\">],</span> <span class=\"n\">data_dir</span><span class=\"o\">=</span><span class=\"n\">args</span><span class=\"o\">.</span><span class=\"n\">data_path</span><span class=\"p\">,</span> <span class=\"n\">download</span><span class=\"o\">=</span><span class=\"kc\">True</span><span class=\"p\">,</span> <span class=\"n\">as_supervised</span><span class=\"o\">=</span><span class=\"kc\">True</span><span class=\"p\">,</span> <span class=\"n\">batch_size</span><span class=\"o\">=-</span><span class=\"mi\">1</span><span class=\"p\">)</span>\n",
       "\n",
       "\n",
       "<span class=\"c1\"># callback logující všechny metriky modelu po konci každé epochy. další možnosti: https://www.tensorflow.org/guide/keras/custom_callback</span>\n",
       "<span class=\"k\">class</span> <span class=\"nc\">AzureLogMetrics</span><span class=\"p\">(</span><span class=\"n\">tf</span><span class=\"o\">.</span><span class=\"n\">keras</span><span class=\"o\">.</span><span class=\"n\">callbacks</span><span class=\"o\">.</span><span class=\"n\">Callback</span><span class=\"p\">):</span>\n",
       "    <span class=\"k\">def</span> <span class=\"nf\">on_epoch_end</span><span class=\"p\">(</span><span class=\"bp\">self</span><span class=\"p\">,</span> <span class=\"n\">epoch</span><span class=\"p\">,</span> <span class=\"n\">logs</span><span class=\"o\">=</span><span class=\"kc\">None</span><span class=\"p\">):</span>\n",
       "        <span class=\"n\">metrics</span> <span class=\"o\">=</span> <span class=\"nb\">list</span><span class=\"p\">(</span><span class=\"n\">logs</span><span class=\"o\">.</span><span class=\"n\">keys</span><span class=\"p\">())</span>\n",
       "        <span class=\"k\">for</span> <span class=\"n\">metric</span> <span class=\"ow\">in</span> <span class=\"n\">metrics</span><span class=\"p\">:</span>\n",
       "            <span class=\"n\">run</span><span class=\"o\">.</span><span class=\"n\">log</span><span class=\"p\">(</span><span class=\"n\">metric</span><span class=\"p\">,</span> <span class=\"n\">logs</span><span class=\"p\">[</span><span class=\"n\">metric</span><span class=\"p\">])</span> \n",
       "        \n",
       "        <span class=\"nb\">print</span><span class=\"p\">(</span><span class=\"s2\">&quot;End epoch </span><span class=\"si\">{}</span><span class=\"s2\"> of training; got log keys: </span><span class=\"si\">{}</span><span class=\"s2\">&quot;</span><span class=\"o\">.</span><span class=\"n\">format</span><span class=\"p\">(</span><span class=\"n\">epoch</span><span class=\"p\">,</span> <span class=\"n\">metrics</span><span class=\"p\">))</span>\n",
       "\n",
       "\n",
       "<span class=\"c1\"># spuštění trénování</span>\n",
       "<span class=\"n\">history</span> <span class=\"o\">=</span> <span class=\"n\">model</span><span class=\"o\">.</span><span class=\"n\">fit</span><span class=\"p\">(</span><span class=\"n\">train_images</span><span class=\"p\">,</span> <span class=\"n\">train_labels</span><span class=\"p\">,</span>\n",
       "                    <span class=\"n\">validation_data</span><span class=\"o\">=</span><span class=\"p\">(</span><span class=\"n\">test_images</span><span class=\"p\">,</span> <span class=\"n\">test_labels</span><span class=\"p\">),</span>\n",
       "                    <span class=\"n\">epochs</span><span class=\"o\">=</span><span class=\"n\">args</span><span class=\"o\">.</span><span class=\"n\">epochs</span><span class=\"p\">,</span>\n",
       "                    <span class=\"n\">callbacks</span><span class=\"o\">=</span><span class=\"p\">[</span><span class=\"n\">AzureLogMetrics</span><span class=\"p\">()]</span>\n",
       "                    <span class=\"p\">)</span>\n",
       "\n",
       "<span class=\"n\">model</span><span class=\"o\">.</span><span class=\"n\">save_weights</span><span class=\"p\">(</span><span class=\"s2\">&quot;./outputs/trained_model.h5&quot;</span><span class=\"p\">)</span>\n",
       "<span class=\"nb\">print</span><span class=\"p\">(</span><span class=\"s2\">&quot;YO THE MODEL HAS BEEN SAVED&quot;</span><span class=\"p\">)</span>\n",
       "</pre></div>\n"
      ],
      "text/plain": [
       "<IPython.core.display.HTML object>"
      ]
     },
     "execution_count": 13,
     "metadata": {},
     "output_type": "execute_result"
    }
   ],
   "source": [
    "with open('src/training-script.py') as f: code = f.read(); formatter = HtmlFormatter()\n",
    "IPython.display.HTML('<style type=\"text/css\">{}</style>{}'.format(formatter.get_style_defs('.highlight'),highlight(code, PythonLexer(), formatter)))"
   ]
  },
  {
   "cell_type": "markdown",
   "metadata": {},
   "source": [
    "# 9. Spuštění a monitoring trénování\n",
    "\n",
    "Pro počátek trénování spustíme control script. Ten zašle požadavek o trénování na Azure kde se podle našeho Environment objektu vytvoří prostředí s potřebnými balíčky.  "
   ]
  },
  {
   "cell_type": "code",
   "execution_count": null,
   "metadata": {},
   "outputs": [],
   "source": [
    "!python control-script.py"
   ]
  },
  {
   "cell_type": "markdown",
   "metadata": {},
   "source": [
    "Control script na konci do konzole vrátí odkaz na Azure Portal, kde můžete v grafické podobě sledovat průběh trénování. Můžeme v reálném čase sledovat automaticky se tvořící se grafy našich metrik nebo sledovat klasický výstup Python konzole."
   ]
  },
  {
   "cell_type": "markdown",
   "metadata": {},
   "source": [
    "<img src=\"img/azportal_metrics.png\" alt=\"Drawing\" style=\"width: 900px;\"/>"
   ]
  },
  {
   "cell_type": "markdown",
   "metadata": {},
   "source": [
    "<img src=\"img/azportal_logs.png\" alt=\"Drawing\" style=\"width: 900px;\"/>"
   ]
  },
  {
   "cell_type": "markdown",
   "metadata": {},
   "source": [
    "# 10. Přístup k předchozím experimentům"
   ]
  },
  {
   "cell_type": "markdown",
   "metadata": {},
   "source": [
    "Po natrénování modelu ho většinou chceme dostat zpět do lokálního zařízení a nasledně ho otestovat nebo aplikovat. Training script ukazuje že můžeme model uložit již známým způsobem (uložení do složky `./outputs` je nutné). Limit úložiště jednoho pokusu je 300MB což by mělo pro většinu modelů a metrik stačit (jinak se nabízí ukládání do Azure Datastore).\n",
    "\n",
    "Nejdříve musíme získat Run objekt pro pokus, jehož výstup chceme stáhnout. Můžeme ho najít v kompletní historii všech trénování v rámci jednoho experimentu. Pro orientaci můžeme použít filtrování za pomocí tagů."
   ]
  },
  {
   "cell_type": "code",
   "execution_count": null,
   "metadata": {},
   "outputs": [],
   "source": [
    "exp = Experiment(workspace=ws, name='cifar10-conv-test1')\n",
    "\n",
    "experiment.get_runs() # získá všechny pokusy\n",
    "\n",
    "#tag = tags={\"run number\" : 3} # zobrazí se pouze trénování s daným tagem\n",
    "tag = None # všechny\n",
    "\n",
    "runs = list(experiment.get_runs(tags=tag))\n",
    "\n",
    "for i, run in enumerate(runs):\n",
    "    print(i)\n",
    "    print(run)\n",
    "    print(run.get_portal_url())\n",
    "    #print(run.get_tags()) # zobrazí všechny tagy trénování\n",
    "    print(\"\\n\\n\")"
   ]
  },
  {
   "cell_type": "markdown",
   "metadata": {},
   "source": [
    "Následně můžeme zvolit jeden z pokusů pomocí indexu, a stáhnout potřebné soubory ze složky `./outputs`. Stahovat a ukládat taky můžete do složky `./logs`."
   ]
  },
  {
   "cell_type": "code",
   "execution_count": null,
   "metadata": {},
   "outputs": [],
   "source": [
    "run = runs[0]\n",
    "\n",
    "run.download_file(\"./outputs/trained_model.h5\")\n",
    "\n",
    "# run.download_files(./outputs) # stáhné veškeré uložené výstupy pokusu"
   ]
  },
  {
   "cell_type": "markdown",
   "metadata": {},
   "source": [
    "Pokud například chcete **pokračovat v trénování již staženého modelu**, stačí pouze jeho soubor přidat so složky `./src` a v training scriptu jej použít."
   ]
  },
  {
   "cell_type": "markdown",
   "metadata": {},
   "source": [
    "# Závěr\n",
    "\n",
    "Při tvorbě návodu jsem se snažil zmínit jenom to opravdu nejpodstatnější. Informace obsažené v dokumentaci mohou být totiž pro většinu aplikací nadbytečné. Pokud byste si ale chtěli o některém z témat přečíst více nebo využijte odkazy na dokumentaci které jsem v průběhu příručky přikládal.\n",
    "\n",
    "Pro vlastní trénování bude určitě potřeba modifikovat oba skripty. V případě chyb, nepřesností, ale i podnětů na zlepšení neváhejte přispět pod GitHub repozitář: "
   ]
  }
 ],
 "metadata": {
  "kernelspec": {
   "display_name": "Python 3.7.10 64-bit ('ml': conda)",
   "language": "python",
   "name": "python3710jvsc74a57bd0a4739f2d330a3d6595ea7df0d82fb73bb8d5f2f12b53c6487e2a6162f29e823f"
  },
  "language_info": {
   "codemirror_mode": {
    "name": "ipython",
    "version": 3
   },
   "file_extension": ".py",
   "mimetype": "text/x-python",
   "name": "python",
   "nbconvert_exporter": "python",
   "pygments_lexer": "ipython3",
   "version": "3.7.10"
  }
 },
 "nbformat": 4,
 "nbformat_minor": 4
}
